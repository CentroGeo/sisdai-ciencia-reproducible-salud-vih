{
 "cells": [
  {
   "cell_type": "code",
   "execution_count": null,
   "metadata": {},
   "outputs": [],
   "source": [
    "import pandas as pd\n",
    "import os\n",
    "import numpy as np\n",
    "import seaborn as sns\n",
    "import matplotlib.pyplot as plt\n",
    "from matplotlib.colors import ListedColormap\n",
    "from matplotlib.lines import Line2D\n",
    "import warnings\n",
    "from pandas.core.common import SettingWithCopyWarning\n",
    "warnings.simplefilter(action=\"ignore\", category=SettingWithCopyWarning)"
   ]
  },
  {
   "cell_type": "code",
   "execution_count": null,
   "metadata": {},
   "outputs": [],
   "source": [
    "\n",
    "nombre_archivo = os.path.join('..', 'datos', 'datos_procesados', 'nodos.csv')\n",
    "datos = pd.read_csv(nombre_archivo)\n",
    "\n",
    "for column in datos:\n",
    "    datos[column] = datos[column].replace(np.nan, '')\n",
    "\n",
    "datos = datos[(datos.edad != '')]\n",
    "\n",
    "datos['seguridad_social'] = datos['seguridad_social'].replace('','Sin dato')\n",
    "datos_edad = datos[['edad', 'edad_rango', 'seguridad_social']]\n",
    "datos_edad['edad'] = datos_edad['edad'].astype('Int64')"
   ]
  },
  {
   "cell_type": "code",
   "execution_count": null,
   "metadata": {},
   "outputs": [],
   "source": [
    "datos_edad.head()"
   ]
  },
  {
   "cell_type": "code",
   "execution_count": null,
   "metadata": {},
   "outputs": [],
   "source": [
    "datos['resistencia'] = datos['resistencia'].replace({'Susceptible':'Sin resistencia'})\n",
    "datos_resistencia = datos[datos.edad_rango != None]\n",
    "datos_resistencia = datos_resistencia[['edad','edad_rango','resistencia']]\n",
    "datos_resistencia['edad'] = datos_resistencia['edad'].astype('Int64')\n",
    "datos_resistencia = datos_resistencia[datos_resistencia['resistencia'] != 'Pendiente']"
   ]
  },
  {
   "cell_type": "code",
   "execution_count": null,
   "metadata": {},
   "outputs": [],
   "source": [
    "datos_resistencia.head()"
   ]
  },
  {
   "attachments": {},
   "cell_type": "markdown",
   "metadata": {},
   "source": [
    "#### Resistencia a antirretrovirales con respecto a la edad\n",
    "<img src = \"../datos/imagenes/seguridad_social_edad.png\" width= \"500\"/>"
   ]
  },
  {
   "cell_type": "code",
   "execution_count": null,
   "metadata": {},
   "outputs": [],
   "source": [
    "# Crear marco de figura \n",
    "fig, ax = plt.subplots(figsize=(7, 5))\n",
    "sns.despine(top = True, right = True, left = True, bottom = True)\n",
    "\n",
    "# Propiedades de cuadrícula\n",
    "sns.set_style(\"whitegrid\")\n",
    "sns.set_context(\"notebook\")\n",
    "plt.rc(\"grid\", color = \"#7D7D7D\", linestyle = \"--\", linewidth = 0.7)\n",
    "\n",
    "# Dibujar gráfica \n",
    "sns.violinplot(data = datos_edad, x=\"seguridad_social\", y=\"edad\", width = 0.5, inner = None, color = \"#3221ED\", edgecolor = \"#3221ED\")\n",
    "\n",
    "#  Editar leyendas de ejes \n",
    "ax.set_xlabel(\"Seguridad social\", fontsize = 12, labelpad = 5, weight = \"bold\")\n",
    "ax.set_ylabel(\"Edad\", fontsize = 12, labelpad = 15, weight = \"bold\")\n",
    "plt.xticks(rotation = 45)\n",
    "\n",
    "# Editar eje y \n",
    "cifras_especificas = [20, 30, 40, 50, 60, 70, 80]\n",
    "plt.gca().set_yticks(cifras_especificas) \n",
    "\n",
    "plt.show()"
   ]
  },
  {
   "attachments": {},
   "cell_type": "markdown",
   "metadata": {},
   "source": [
    "#### Resistencia a antirretrovirales con respecto a la edad\n",
    "<img src = \"../datos/imagenes/resistencia_edad.png\" width= \"500\"/>"
   ]
  },
  {
   "cell_type": "code",
   "execution_count": null,
   "metadata": {},
   "outputs": [],
   "source": [
    "# Crear marco de figura \n",
    "fig, ax = plt.subplots(figsize=(7, 5))\n",
    "sns.despine(top = True, right = True, left = True, bottom = True)\n",
    "\n",
    "# Propiedades de cuadrícula\n",
    "sns.set_style(\"whitegrid\")\n",
    "sns.set_context(\"notebook\")\n",
    "plt.rc(\"grid\", color = \"#7D7D7D\", linestyle = \"--\", linewidth = 0.7)\n",
    "\n",
    "# Dibujar gráfica \n",
    "sns.violinplot(data = datos_resistencia, x=\"resistencia\", y=\"edad\", width = 0.5, inner = None, color = \"#3221ED\", edgecolor = \"#3221ED\")\n",
    "\n",
    "#  Editar leyendas de ejes \n",
    "ax.set_xlabel(\"Resistencia\", fontsize = 12, labelpad = 5, weight = \"bold\")\n",
    "ax.set_ylabel(\"Edad\", fontsize = 12, labelpad = 15, weight = \"bold\")\n",
    "plt.xticks(rotation = 45)\n",
    "\n",
    "# Editar eje y \n",
    "cifras_especificas = [20, 30, 40, 50, 60, 70, 80]\n",
    "plt.gca().set_yticks(cifras_especificas) \n",
    "\n",
    "plt.show()"
   ]
  }
 ],
 "metadata": {
  "kernelspec": {
   "display_name": "VIH",
   "language": "python",
   "name": "python3"
  },
  "language_info": {
   "codemirror_mode": {
    "name": "ipython",
    "version": 3
   },
   "file_extension": ".py",
   "mimetype": "text/x-python",
   "name": "python",
   "nbconvert_exporter": "python",
   "pygments_lexer": "ipython3",
   "version": "3.10.0"
  },
  "orig_nbformat": 4
 },
 "nbformat": 4,
 "nbformat_minor": 2
}
