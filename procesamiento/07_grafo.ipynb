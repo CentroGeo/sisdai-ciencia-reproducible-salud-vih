{
 "cells": [
  {
   "cell_type": "code",
   "execution_count": null,
   "metadata": {},
   "outputs": [],
   "source": [
    "import pandas as pd\n",
    "import os\n",
    "import numpy as np\n",
    "import networkx as nx\n",
    "import matplotlib.pyplot as plt \n",
    "from matplotlib.lines import Line2D\n",
    "import csv"
   ]
  },
  {
   "cell_type": "code",
   "execution_count": null,
   "metadata": {},
   "outputs": [],
   "source": [
    "### Obtener datos \n",
    "p = pd.read_csv(\"../datos/datos_originales/vih_descarga/02_analisis_datos/paciente_cluster.csv\")\n",
    "c = pd.read_csv(\"../datos/datos_originales/vih_descarga/02_analisis_datos/vih_clusters.csv\")\n",
    "r = pd.read_csv(\"../datos/datos_originales/vih_descarga/02_analisis_datos/vih_red_completa.csv\")"
   ]
  },
  {
   "cell_type": "code",
   "execution_count": null,
   "metadata": {},
   "outputs": [],
   "source": [
    "# Unimos las bases descargadas para obtener los id de participantes en clusters, la distancia entre cada miembro del cluster y su resistencia \n",
    "datos_grafo = pd.merge(left = c, right = p[['cluster_id', 'id_muestra']], how='right', left_on='id1', right_on='id_muestra')\n",
    "datos_grafo = pd.merge(left = datos_grafo, right = r[['resistencia', 'id_muestra']], how='right', left_on='id1', right_on='id_muestra')\n",
    "datos_grafo = datos_grafo.loc[datos_grafo['id1'].notnull()].drop(['id_muestra_x', 'id_muestra_y'], axis=1)\n",
    "datos_grafo['distancia'] = datos_grafo['distancia'].round(1)"
   ]
  },
  {
   "cell_type": "code",
   "execution_count": null,
   "metadata": {},
   "outputs": [],
   "source": [
    "# Añadimos el rango de distancia genética \n",
    "def rango(valor):\n",
    "    if 0 <= valor < 0.5:\n",
    "        return '0 a 0.5'\n",
    "    elif 0.5 <= valor < 1:\n",
    "        return '0.5 a 1'\n",
    "    elif 1<= valor <= 1.5:\n",
    "        return '1 a 1.5'\n",
    "    else:\n",
    "        return 'Fuera de rango'\n",
    "\n",
    "datos_grafo['distancia_rango'] = datos_grafo['distancia'].apply(rango)"
   ]
  },
  {
   "cell_type": "code",
   "execution_count": null,
   "metadata": {},
   "outputs": [],
   "source": [
    "datos_grafo.head() "
   ]
  },
  {
   "cell_type": "code",
   "execution_count": null,
   "metadata": {},
   "outputs": [],
   "source": [
    "# Filtramos los datos del cluster 357 como ejemplo\n",
    "datos = datos_grafo[datos_grafo['cluster_id'] == 357]\n",
    "datos.to_csv(os.path.join('..', 'datos', 'datos_procesados', 'c357.csv'))\n"
   ]
  },
  {
   "cell_type": "code",
   "execution_count": null,
   "metadata": {},
   "outputs": [],
   "source": [
    "# Convertir la base de datos del conglomerado \n",
    "nombre_archivo = os.path.join('..','datos', 'datos_procesados', 'c357.csv')\n",
    "with open(nombre_archivo, newline='') as csvfile:\n",
    "    leer = csv.DictReader(csvfile)\n",
    "    c357 = [row for row in leer]"
   ]
  },
  {
   "cell_type": "code",
   "execution_count": null,
   "metadata": {},
   "outputs": [],
   "source": [
    "# Crear grafo vacío\n",
    "G = nx.Graph()\n",
    "\n",
    "# Añadir aristas al grafo con atributos\n",
    "for fila in c357:\n",
    "    G.add_edge(fila['id1'], fila['id2'], distancia=fila['distancia'], distancia_rango=fila['distancia_rango'])\n",
    "\n",
    "    # Añade o actualiza el atributo 'resistencia' para cada nodo\n",
    "    if 'resistencia' in G.nodes[fila['id1']]:\n",
    "        G.nodes[fila['id1']]['resistencia'] += fila['resistencia']\n",
    "    else:\n",
    "        G.nodes[fila['id1']]['resistencia'] = fila['resistencia']\n",
    "\n",
    "    if 'resistencia' in G.nodes[fila['id2']]:\n",
    "        G.nodes[fila['id2']]['resistencia'] += fila['resistencia']\n",
    "    else:\n",
    "        G.nodes[fila['id2']]['resistencia'] = fila['resistencia']\n",
    "\n",
    "# Definir estilo de las aristas\n",
    "estilos_aristas = {\n",
    "    '0 a 0.5': 'solid',\n",
    "    '0.5 a 1': 'solid',\n",
    "    '1 a 1.5': 'dashed'\n",
    "}\n",
    "\n",
    "# Definir el color de las aristas según 'distancia_rango'\n",
    "colores_aristas = {\n",
    "    '0 a 0.5': '#000000', \n",
    "    '0.5 a 1': '#7D7D7D', \n",
    "    '1 a 1.5': '#C0C0C0'\n",
    "}\n",
    "\n",
    "# Definir color de los nodos\n",
    "def obtener_color(resistencia):\n",
    "    if resistencia == 'Compleja':\n",
    "        return '#495CD9'\n",
    "    elif resistencia == 'PI':\n",
    "        return '#97302B'\n",
    "    else:\n",
    "        return '#A834F6'\n",
    "    \n",
    "# Definir tamaño de nodo de acuerdo al \"grado\"\n",
    "grados= dict(G.degree())\n",
    "tamano_base = 150\n",
    "tamano_nodo = [tamano_base * grados[nodo] for nodo in G.nodes]\n",
    "\n",
    "# Definir posicion de los nodos     \n",
    "pos = nx.spring_layout(G, seed=42)\n",
    "\n",
    "# Crear figura\n",
    "plt.figure(figsize=(10, 10))\n",
    "\n",
    "# Asignar estilo de las aristas \n",
    "for distancia_rango, estilo in estilos_aristas.items():\n",
    "    aristas = [(u, v) for u, v, d in G.edges(data=True) if d['distancia_rango'] == distancia_rango]\n",
    "    nx.draw_networkx_edges(G, pos, edgelist=aristas, style=estilo)\n",
    "\n",
    "# Asignar color de las aristas\n",
    "for distancia_rango, color in colores_aristas.items():\n",
    "    aristas = [(u, v) for u, v, d in G.edges(data=True) if d['distancia_rango'] == distancia_rango]\n",
    "    nx.draw_networkx_edges(G, pos, edgelist=aristas, edge_color=color)\n",
    "\n",
    "# Asignar colores a las aristas \n",
    "edge_color_list = [colores_aristas[G[u][v]['distancia_rango']] for u, v in G.edges()]\n",
    "\n",
    "# Asignar color de los nodos \n",
    "colores_nodos = [obtener_color(G.nodes[n]['resistencia']) for n in G.nodes()]\n",
    "nx.draw_networkx_nodes(G, pos, node_color=colores_nodos, node_size=tamano_nodo)\n",
    "\n",
    "# Dibular los nodos \n",
    "nx.draw_networkx_labels(G, pos, font_size=5, font_color='black')\n",
    "\n",
    "# Crear representaciones de las aristas para la leyenda\n",
    "leyenda_aristas = [\n",
    "    Line2D([0], [0], color='black', lw=1, label='0 a 0.5'),\n",
    "    Line2D([0], [0], color='gray', lw=1, label='0.5 a 1'), \n",
    "    Line2D([0], [0], color='gray', lw=1, linestyle='dashed', label='1 a 1.5')\n",
    "]\n",
    "\n",
    "# Crear representaciones de los nodos para la leyenda\n",
    "leyenda_nodos = [\n",
    "    Line2D([0], [0], marker='o', color='w', markerfacecolor='#A834F6', markersize=10, label= 'Sin resistencia'),\n",
    "    Line2D([0], [0], marker='o', color='w', markerfacecolor='#495CD9', markersize=10, label='Compleja'),\n",
    "    Line2D([0], [0], marker='o', color='w', markerfacecolor='#97302B', markersize=10, label='PI')\n",
    "]\n",
    "\n",
    "# Agregar la leyenda al gráfico\n",
    "plt.legend(title = \"Distancia genética y Resistencia\", handles=leyenda_aristas + leyenda_nodos, loc=\"lower center\", fontsize=10, frameon = False, ncol = 2)\n",
    "\n",
    "plt.title(\"Características del conglomerado 357\", fontsize = 14, weight = \"bold\")\n",
    "plt.axis('off')\n",
    "plt.show()"
   ]
  }
 ],
 "metadata": {
  "kernelspec": {
   "display_name": "vih_ciencia",
   "language": "python",
   "name": "python3"
  },
  "language_info": {
   "codemirror_mode": {
    "name": "ipython",
    "version": 3
   },
   "file_extension": ".py",
   "mimetype": "text/x-python",
   "name": "python",
   "nbconvert_exporter": "python",
   "pygments_lexer": "ipython3",
   "version": "3.10.0"
  },
  "orig_nbformat": 4
 },
 "nbformat": 4,
 "nbformat_minor": 2
}
