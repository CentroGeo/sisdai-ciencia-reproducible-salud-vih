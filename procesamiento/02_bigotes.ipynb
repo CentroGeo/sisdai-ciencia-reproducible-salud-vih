{
 "cells": [
  {
   "cell_type": "code",
   "execution_count": null,
   "metadata": {},
   "outputs": [],
   "source": [
    "import pandas as pd\n",
    "import numpy as np\n",
    "import os\n",
    "import seaborn as sns\n",
    "import matplotlib.pyplot as plt\n",
    "from matplotlib.colors import ListedColormap"
   ]
  },
  {
   "cell_type": "markdown",
   "metadata": {},
   "source": [
    "## **Estadísticas generales (visualización de caja y bigotes)**"
   ]
  },
  {
   "cell_type": "code",
   "execution_count": null,
   "metadata": {},
   "outputs": [],
   "source": [
    "# Obtener datos \n",
    "nombre_archivo = os.path.join('..', 'datos', 'datos_procesados', 'nodos.csv')\n",
    "datos = pd.read_csv(nombre_archivo)\n",
    "\n",
    "# Filtrar columnas de interes\n",
    "columnas0 = ['edad','edad_rango','cv','cd4_a']\n",
    "data0 = pd.DataFrame(datos, columns = columnas0)\n",
    "\n",
    "# Reemplazar datos nulos\n",
    "for column in data0:\n",
    "        data0[column] = data0[column].replace(np.nan, '')\n",
    "\n",
    "data_cv = data0[(data0['cv'] != '') & (data0['edad'] != '')]\n",
    "data_cv = data_cv[['edad','edad_rango','cv']].sort_values('edad_rango')\n",
    "data_cv = data_cv[data_cv['edad_rango'].notna()]\n",
    "data_cv = data_cv[data_cv['edad_rango']!= '']\n",
    "\n",
    "data_cd4a = data0[(data0['cd4_a'] != '') & (data0['edad'] != '')]\n",
    "data_cd4a = data_cd4a[['edad','edad_rango','cd4_a']].sort_values('edad_rango')\n",
    "data_cd4a = data_cd4a[data_cd4a['edad_rango'].notna()]\n",
    "data_cd4a = data_cd4a[data_cd4a['edad_rango']!= '']\n",
    "\n"
   ]
  },
  {
   "cell_type": "code",
   "execution_count": null,
   "metadata": {},
   "outputs": [],
   "source": [
    "data_cv.head()"
   ]
  },
  {
   "cell_type": "code",
   "execution_count": null,
   "metadata": {},
   "outputs": [],
   "source": [
    "data_cd4a.head()"
   ]
  },
  {
   "attachments": {},
   "cell_type": "markdown",
   "metadata": {},
   "source": [
    "#### Conteo de linfocitos con respecto a edad"
   ]
  },
  {
   "attachments": {},
   "cell_type": "markdown",
   "metadata": {},
   "source": [
    "<img src = \"../datos/imagenes/conteo_linfocitos.png\" width= \"800\"/>"
   ]
  },
  {
   "cell_type": "code",
   "execution_count": null,
   "metadata": {},
   "outputs": [],
   "source": [
    "# Crear marco de figura \n",
    "fig, ax = plt.subplots(figsize=(12, 6))\n",
    "\n",
    "# Definir los rangos y colores de la cuadrícula\n",
    "gradientes = [0, 200, 500, 1400] \n",
    "colors = ['#BCDEF9', '#76B0F8', '#2379F9']  \n",
    "\n",
    "# Agregar gradiente a la cuadrícula \n",
    "for i in range(len(gradientes) - 1):\n",
    "    ax.fill_betweenx(\n",
    "        y = [gradientes[i], gradientes[i + 1]],\n",
    "        x1 = -0.5,\n",
    "        x2 = len(data_cd4a['edad_rango'].unique()) - 0.5,\n",
    "        color = colors[i],\n",
    "        alpha = 0.3\n",
    "    )\n",
    "\n",
    "# Propiedades de cuadrícula \n",
    "sns.set_style(\"whitegrid\")\n",
    "sns.set_context(\"notebook\")\n",
    "plt.rc(\"grid\", color = \"#7D7D7D\", linestyle = \"--\", linewidth = 0.7)\n",
    "\n",
    "# Dibujar gráfica \n",
    "sns.boxplot(data = data_cd4a, x = \"edad_rango\", y = \"cd4_a\", showmeans = True, meanprops = {\"marker\":\"o\", \"markeredgecolor\":\"#A834F6\", \"markerfacecolor\":\"#A834F6\"},\n",
    "            fill = False, width = 0.7, dodge = False, ax = ax, color = \"#A834F6\")\n",
    "sns.despine(top = True, right = True, left = True, bottom = True)\n",
    "\n",
    "# Cambiar tipo de linea en los bigotes \n",
    "for line in ax.get_lines():\n",
    "    xdata = line.get_xdata()  \n",
    "    ydata = line.get_ydata()  \n",
    "\n",
    "    if len(xdata) == 2 and abs(ydata[1] - ydata[0]) > 0:  \n",
    "        line.set_linestyle('--') \n",
    "        line.set_color(\"#A834F6\")\n",
    "        line.set_linewidth(1)\n",
    "\n",
    "# Editar leyendas de ejes \n",
    "ax.set_xlabel(\"Rango de edades\", fontsize = 14, labelpad = 15, weight = \"bold\")\n",
    "ax.set_ylabel(\"Conteo de células T CD4+\", fontsize = 14, labelpad = 15, weight = \"bold\")\n",
    "\n",
    "# Editar eje y \n",
    "ax.set_ylim(0, 1400)\n",
    "cifras_especificas = [0, 200, 400, 600, 800, 1000, 1200, 1400 ]\n",
    "plt.gca().set_yticks(cifras_especificas) \n",
    "\n",
    "plt.show()"
   ]
  },
  {
   "attachments": {},
   "cell_type": "markdown",
   "metadata": {},
   "source": [
    "#### Carga viral con respecto a edad"
   ]
  },
  {
   "attachments": {},
   "cell_type": "markdown",
   "metadata": {},
   "source": [
    "<img src = \"../datos/imagenes/carga_viral.png\" width= \"800\"/>"
   ]
  },
  {
   "cell_type": "code",
   "execution_count": null,
   "metadata": {},
   "outputs": [],
   "source": [
    "\n",
    "# Crear marco de figura \n",
    "fig, ax = plt.subplots(figsize=(12, 6))\n",
    "sns.despine(top = True, right = True, left = True, bottom = True)\n",
    "\n",
    "# Propiedades de cuadrícula\n",
    "sns.set_style(\"whitegrid\")\n",
    "sns.set_context(\"notebook\")\n",
    "plt.rc(\"grid\", color = \"#7D7D7D\", linestyle = \"--\", linewidth = 0.7)\n",
    "\n",
    "# Dibujar gráfica \n",
    "sns.boxplot(data = data_cv, x = \"edad_rango\", y = \"cv\", showmeans = True, meanprops = {\"marker\":\"o\", \"markeredgecolor\":\"#3221ED\", \"markerfacecolor\":\"#3221ED\"},\n",
    "            fill = False, width = 0.7, dodge = False, ax = ax, color = \"#3221ED\")\n",
    "\n",
    "# Cambiar tipo de linea en los bigotes \n",
    "for line in ax.get_lines():\n",
    "    xdata = line.get_xdata()  \n",
    "    ydata = line.get_ydata()  \n",
    "\n",
    "    if len(xdata) == 2 and abs(ydata[1] - ydata[0]) > 0:  \n",
    "        line.set_linestyle('--') \n",
    "        line.set_color(\"#3221ED\")\n",
    "        line.set_linewidth(1)\n",
    "\n",
    "#  Editar leyendas de ejes \n",
    "ax.set_xlabel(\"Rango de edades\", fontsize = 14, labelpad = 15, weight = \"bold\")\n",
    "ax.set_ylabel(\"Carga Viral\", fontsize = 14, labelpad = 15, weight = \"bold\")\n",
    "\n",
    "# Editar eje y \n",
    "ax.set_ylim(1.5, 7.5)\n",
    "cifras_especificas = [2, 2.5, 3.0, 3.5, 4.0, 4.5, 5.0, 5.5, 6.0, 6.5, 7.0]\n",
    "plt.gca().set_yticks(cifras_especificas) \n",
    "\n",
    "plt.show()"
   ]
  }
 ],
 "metadata": {
  "kernelspec": {
   "display_name": "VIH",
   "language": "python",
   "name": "python3"
  },
  "language_info": {
   "codemirror_mode": {
    "name": "ipython",
    "version": 3
   },
   "file_extension": ".py",
   "mimetype": "text/x-python",
   "name": "python",
   "nbconvert_exporter": "python",
   "pygments_lexer": "ipython3",
   "version": "3.10.0"
  },
  "orig_nbformat": 4
 },
 "nbformat": 4,
 "nbformat_minor": 2
}
