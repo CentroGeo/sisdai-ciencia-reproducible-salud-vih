{
 "cells": [
  {
   "cell_type": "code",
   "execution_count": null,
   "metadata": {},
   "outputs": [],
   "source": [
    "import pandas as pd\n",
    "import numpy as np\n",
    "import os\n",
    "import seaborn as sns\n",
    "import matplotlib.pyplot as plt\n",
    "from matplotlib.colors import ListedColormap\n",
    "import matplotlib.lines as mlines\n",
    "import matplotlib.patches as patches"
   ]
  },
  {
   "attachments": {},
   "cell_type": "markdown",
   "metadata": {},
   "source": [
    "## **Estadísticas generales (visualizaciones de linea de tiempo)** "
   ]
  },
  {
   "cell_type": "code",
   "execution_count": null,
   "metadata": {},
   "outputs": [],
   "source": [
    "### Obtener datos \n",
    "nombre_archivo = os.path.join('..', 'datos', 'datos_procesados', 'nodos.csv')\n",
    "datos = pd.read_csv(nombre_archivo)\n",
    "\n",
    "# Procesamiento de datos\n",
    "datos['fecha_toma'] = pd.to_datetime(datos['fecha_toma'])\n",
    "totales = datos.groupby(pd.Grouper(key='fecha_toma', freq='M')).count().rename(columns={'id_muestra':'total'})['total']\n",
    "\n",
    "# Agrupado por meses para obtener porcentaje de resistencia\n",
    "b0 = datos[datos['resistencia_bool']=='Con resistencia'].groupby([pd.Grouper(key='fecha_toma', freq='M'),'resistencia_bool']).count().reset_index().rename(\n",
    "columns={'id_muestra':'pacientes_con_resistencia'})[['fecha_toma','pacientes_con_resistencia']]\n",
    "b = b0.merge(totales,on='fecha_toma')\n",
    "b.insert(len(b.columns),'porcentaje',b['pacientes_con_resistencia']*100/b['total'])\n",
    "b = b.round(1)\n",
    "\n",
    "b = b.astype({'fecha_toma':str})\n",
    "b['fecha_toma'] = b['fecha_toma'].str.slice(stop=-3)\n",
    "b.set_index('fecha_toma')\n",
    "b.head()"
   ]
  },
  {
   "cell_type": "code",
   "execution_count": null,
   "metadata": {},
   "outputs": [],
   "source": [
    "\n",
    "# Agrupado por meses para sacar porcentaje de resistencia por tipo de ARV\n",
    "b1 = datos[datos['resistencia_bool']=='Con resistencia'].groupby([pd.Grouper(key='fecha_toma', freq='M'),'resistencia']).count().reset_index().rename(\n",
    "    columns={'id_muestra':'pacientes_con_resistencia'})[['fecha_toma','resistencia','pacientes_con_resistencia']]\n",
    "bARV = b1.merge(totales,on='fecha_toma')\n",
    "bARV.insert(len(bARV.columns),'porcentaje',bARV['pacientes_con_resistencia']*100/bARV['total'])\n",
    "bARV=bARV.round(1)\n",
    "bARV = bARV.astype({'fecha_toma':str})\n",
    "bARV['fecha_toma'] = bARV['fecha_toma'].str.slice(stop=-3)\n",
    "bARV.sort_values(\"resistencia\", ascending = True)\n",
    "bARV.head()"
   ]
  },
  {
   "attachments": {},
   "cell_type": "markdown",
   "metadata": {},
   "source": [
    "#### __Cambio en la proporción de participantes con resistencia a antirretrovirales a través del tiempo (Clase ARV)__"
   ]
  },
  {
   "attachments": {},
   "cell_type": "markdown",
   "metadata": {},
   "source": [
    "<div>\n",
    "<img src = \"../datos/imagenes/resistencia_tiempo.png\" width= \"700\"/>\n",
    "<div>"
   ]
  },
  {
   "cell_type": "code",
   "execution_count": null,
   "metadata": {},
   "outputs": [],
   "source": [
    "# Crear marco de figura \n",
    "fig, ax = plt.subplots(figsize=(12, 4))\n",
    "sns.despine(top = True, right = True, left = True, bottom = True)\n",
    "\n",
    "# Propiedades de cuadrícula\n",
    "sns.set_style(\"whitegrid\")\n",
    "sns.set_context(\"notebook\")\n",
    "plt.grid(axis = 'y', color = \"#7D7D7D\", linestyle = \"--\", linewidth = 0.7)\n",
    "\n",
    "# Dibujar gráfica \n",
    "colores = [\"#495CD9\", \"#F0C859\", \"#FF302B\", \"#E57351\", \"#97302B\"]\n",
    "sns.lineplot(data = bARV, x = \"fecha_toma\", y = \"porcentaje\", hue= \"resistencia\", hue_order=['Compleja', 'INSTI', 'NNRTI', 'NRTI', 'PI'], \n",
    "             palette = colores, linewidth = 0.7)\n",
    "\n",
    "# Editar eje X para que no muestre todas las fechas \n",
    "fechas_especificas = [\"2020-01\", \"2021-01\", \"2022-01\"]\n",
    "cifras_especificas = [0, 5, 10, 15]\n",
    "plt.gca().set_xticks(fechas_especificas)\n",
    "plt.gca().set_yticks(cifras_especificas) \n",
    "plt.xticks(ticks = [\"2020-01\", \"2021-01\", \"2022-01\"], labels = [\"ene/2020\", \"ene/2021\", \"ene/2022\"])\n",
    "\n",
    "# Editar marcadores, nombre y posición de leyenda \n",
    "handles, labels = plt.gca().get_legend_handles_labels()\n",
    "for handle in handles: \n",
    "    handle.set_marker('o')\n",
    "    handle.set_linewidth(0)\n",
    "    handle.set_markersize(12)\n",
    "\n",
    "plt.legend(title = \"Resistencia a antirretrovirales\", frameon = False, loc = \"lower center\", ncol = 5, borderaxespad = -8) \n",
    "\n",
    "#  Editar leyendas de ejes \n",
    "ax.set_xlabel(\"Fecha\", fontsize = 14, labelpad = 15, weight = \"bold\")\n",
    "ax.set_ylabel(\"Resistencia (%)\", fontsize = 14, labelpad = 15, weight = \"bold\")\n",
    "\n",
    "# Crear rectangulo (fechas sin valores por covid)\n",
    "rect = patches.Rectangle ((8,0), 1, 17, linewidth = 0, edgecolor = 'none', facecolor = 'lightgray')\n",
    "plt.gca().add_patch(rect)\n",
    "\n",
    "plt.tight_layout\n",
    "plt.show()"
   ]
  },
  {
   "attachments": {},
   "cell_type": "markdown",
   "metadata": {},
   "source": [
    "#### __Cambio en la proporción de participantes con resistencia a antirretrovirales a través del tiempo (General)__"
   ]
  },
  {
   "attachments": {},
   "cell_type": "markdown",
   "metadata": {},
   "source": [
    "<div>\n",
    "<img src = \"../datos/imagenes/proporcion_resistencia.png\" width= \"700\"/>\n",
    "<div>"
   ]
  },
  {
   "cell_type": "code",
   "execution_count": null,
   "metadata": {},
   "outputs": [],
   "source": [
    "# Crear marco de figura \n",
    "fig, ax = plt.subplots(figsize=(12, 4))\n",
    "sns.despine(top = True, right = True, left = True, bottom = True)\n",
    "\n",
    "# Propiedades de cuadrícula\n",
    "sns.set_style(\"whitegrid\")\n",
    "sns.set_context(\"notebook\")\n",
    "plt.grid(axis = 'y', color = \"#7D7D7D\", linestyle = \"--\", linewidth = 0.7)\n",
    "\n",
    "# Dibujar gráfica \n",
    "sns.lineplot(data = b, x = \"fecha_toma\", y = \"total\", color = \"#A834F6\", marker = \"o\", linewidth = 0.7)\n",
    "plt.axhline(y = 70, color = \"black\", linewidth = 0.5)\n",
    "\n",
    "# Editar eje X para que no muestre todas las fechas \n",
    "fechas_especificas = [\"2020-01\", \"2021-01\", \"2022-01\"]\n",
    "cifras_especificas = [0, 5, 10, 15]\n",
    "plt.gca().set_xticks(fechas_especificas)\n",
    "plt.gca().set_yticks(cifras_especificas) \n",
    "\n",
    "# Cambiar formato de fecha\n",
    "plt.xticks(ticks = [\"2020-01\", \"2021-01\", \"2022-01\"], labels = [\"ene/2020\", \"ene/2021\", \"ene/2022\"])\n",
    "\n",
    "#  Editar leyendas de ejes \n",
    "ax.set_xlabel(\"Fecha\", fontsize = 14, labelpad = 15, weight = \"bold\")\n",
    "ax.set_ylabel(\"Resistencia (%)\", fontsize = 14, labelpad = 15, weight = \"bold\")\n",
    "\n",
    "# Crear rectangulo (fechas sin valores por covid)\n",
    "rect = patches.Rectangle ((8,70), 1, 350, linewidth = 0, edgecolor = 'none', facecolor = 'lightgray')\n",
    "plt.gca().add_patch(rect)\n",
    "\n",
    "plt.tight_layout\n",
    "plt.show()"
   ]
  },
  {
   "attachments": {},
   "cell_type": "markdown",
   "metadata": {},
   "source": [
    "## **Red (visualizaciones de linea de tiempo)** "
   ]
  },
  {
   "cell_type": "code",
   "execution_count": null,
   "metadata": {},
   "outputs": [],
   "source": [
    "# Procesamiento de datos \n",
    "\n",
    "columnas = ['id_muestra', 'fecha_toma', 'cluster_id']\n",
    "for column in datos:\n",
    "    datos[column] = datos[column].replace(np.nan, None)\n",
    "\n",
    "def ifelse(x, check, yes, no):\n",
    "    if x == check:\n",
    "        res = yes\n",
    "    else:\n",
    "        res = no\n",
    "    return(res)\n",
    "\n",
    "datos['en_cluster'] = datos['cluster_id'].apply(lambda x: ifelse(x, 0, 0, 1))\n",
    "datos['fecha_toma'] = pd.to_datetime(datos['fecha_toma'], format=\"%Y/%m/%d\")\n",
    "datos['anio_mes'] = datos['fecha_toma'].dt.strftime('%Y-%m')\n",
    "\n",
    "datos_personas = (datos.groupby('anio_mes').agg({'en_cluster': ['count', 'sum']}).droplevel(0, axis=1))\n",
    "\n",
    "datos_personas.reset_index(inplace=True)\n",
    "datos_personas.rename(columns={'sum': 'tooltip_personas_en_cong_no_acum'}, inplace=True)\n",
    "datos_personas.rename(columns={'count': 'personas_tot'}, inplace=True)\n",
    "datos_personas.reset_index(inplace=True)\n",
    "\n",
    "datos_personas['tooltip_personas_en_cong_acum'] = datos_personas['tooltip_personas_en_cong_no_acum'].cumsum()\n",
    "datos_personas['personas_acumuladas'] = datos_personas['personas_tot'].cumsum()\n",
    "\n",
    "datos_personas['porcentaje_de_personas_cong_acum'] = round((datos_personas['tooltip_personas_en_cong_acum']/datos_personas['personas_acumuladas'])*100,2)\n",
    "datos_personas['porcentaje_de_personas_cong_no_acum'] = round((datos_personas['tooltip_personas_en_cong_no_acum']/datos_personas['personas_tot'])*100,2)\n",
    "\n",
    "columnas_finales = ['anio_mes', 'tooltip_personas_en_cong_acum', 'porcentaje_de_personas_cong_acum',\n",
    "                    'tooltip_personas_en_cong_no_acum', 'porcentaje_de_personas_cong_no_acum']\n",
    "datos_personas_final = datos_personas[columnas_finales]"
   ]
  },
  {
   "cell_type": "code",
   "execution_count": null,
   "metadata": {},
   "outputs": [],
   "source": [
    "datos_personas_final.head()"
   ]
  },
  {
   "attachments": {},
   "cell_type": "markdown",
   "metadata": {},
   "source": [
    "#### __Participantes que conforman un conglomerado__"
   ]
  },
  {
   "attachments": {},
   "cell_type": "markdown",
   "metadata": {},
   "source": [
    "<div>\n",
    "<img src = \"../datos/imagenes/conglomerado_tiempo_acumulado.png\" width= \"700\"/>\n",
    "<div>"
   ]
  },
  {
   "cell_type": "code",
   "execution_count": null,
   "metadata": {},
   "outputs": [],
   "source": [
    "# Crear marco de figura \n",
    "fig, ax = plt.subplots(figsize=(12, 5))\n",
    "sns.despine(top = True, right = True, left = True, bottom = True)\n",
    "\n",
    "# Propiedades de cuadrícula\n",
    "sns.set_style(\"whitegrid\")\n",
    "sns.set_context(\"notebook\")\n",
    "plt.grid(axis = 'y', color = \"#7D7D7D\", linestyle = \"--\", linewidth = 0.7)\n",
    "\n",
    "# Dibujar gráfica \n",
    "sns.lineplot(data = datos_personas_final, x = \"anio_mes\", y = \"porcentaje_de_personas_cong_no_acum\", color = \"#A834F6\", marker = \"o\", linewidth = 0.7)\n",
    "plt.axhline(y = 56, color = \"black\", linewidth = 0.5)\n",
    "\n",
    "# Editar eje X para que no muestre todas las fechas \n",
    "fechas_especificas = [\"2020-01\", \"2021-01\", \"2022-01\"]\n",
    "plt.gca().set_xticks(fechas_especificas)\n",
    "\n",
    "# Cambiar formato de fecha\n",
    "plt.xticks(ticks = [\"2020-01\", \"2021-01\", \"2022-01\"], labels = [\"ene/2020\", \"ene/2021\", \"ene/2022\"])\n",
    "plt.yticks(ticks = [42,44,46,48,50,52,54,56], labels = [\"42%\", \"44%\", \"46%\", \"48%\", \"50%\", \"52%\", \"54%\", \"56%\"])\n",
    "\n",
    "#  Editar leyendas de ejes \n",
    "ax.set_xlabel(\"Fecha\", fontsize = 14, labelpad = 15, weight = \"bold\")\n",
    "ax.set_ylabel(\"Cantidad de participantes\", fontsize = 14, labelpad = 15, weight = \"bold\")\n",
    "\n",
    "# Crear rectangulo (fechas sin valores por covid)\n",
    "rect = patches.Rectangle ((8,40), 1, 350, linewidth = 0, edgecolor = 'none', facecolor = 'lightgray')\n",
    "plt.gca().add_patch(rect)\n",
    "\n",
    "plt.tight_layout\n",
    "plt.show()"
   ]
  }
 ],
 "metadata": {
  "kernelspec": {
   "display_name": "VIH",
   "language": "python",
   "name": "python3"
  },
  "language_info": {
   "codemirror_mode": {
    "name": "ipython",
    "version": 3
   },
   "file_extension": ".py",
   "mimetype": "text/x-python",
   "name": "python",
   "nbconvert_exporter": "python",
   "pygments_lexer": "ipython3",
   "version": "3.10.15"
  },
  "orig_nbformat": 4
 },
 "nbformat": 4,
 "nbformat_minor": 2
}
