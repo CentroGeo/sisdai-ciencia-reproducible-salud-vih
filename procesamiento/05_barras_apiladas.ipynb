{
 "cells": [
  {
   "cell_type": "code",
   "execution_count": null,
   "metadata": {},
   "outputs": [],
   "source": [
    "import pandas as pd\n",
    "import os\n",
    "import numpy as np\n",
    "import seaborn as sns\n",
    "import matplotlib.pyplot as plt\n",
    "from matplotlib.colors import ListedColormap\n",
    "from matplotlib.lines import Line2D"
   ]
  },
  {
   "cell_type": "code",
   "execution_count": null,
   "metadata": {},
   "outputs": [],
   "source": [
    "nombre_archivo = os.path.join('..', 'datos', 'datos_procesados', 'nodos.csv')\n",
    "\n",
    "# Elegir columnas de interes \n",
    "datos = pd.read_csv(nombre_archivo,usecols=['resistencia_bool','seguridad_social','sexo'])\n",
    "datos = datos.where(pd.notnull(datos), '')\n",
    "# Sustituir valores de columna \n",
    "datos['seguridad_social'].replace({'Desconoce':'No sabe','IMSS': 'Sí', 'ISSSTE': 'Sí', 'INSABI': 'Sí', \n",
    "                                   'Otro': 'Sí', '':'Sin dato'}, inplace=True)\n"
   ]
  },
  {
   "cell_type": "code",
   "execution_count": null,
   "metadata": {},
   "outputs": [],
   "source": [
    "# Obtener todas las combinaciones posibles de seguridad social y género \n",
    "columna_sexo = datos['sexo'].unique()\n",
    "columna_seguridad = datos['seguridad_social'].unique()\n",
    "combinaciones = pd.MultiIndex.from_product([columna_sexo, columna_seguridad], names = ['sexo', 'seguridad_social'])"
   ]
  },
  {
   "cell_type": "code",
   "execution_count": null,
   "metadata": {},
   "outputs": [],
   "source": [
    "# Calcular totales por género y seguridad social\n",
    "genero_seguridad = datos.groupby(['sexo', 'seguridad_social']).size().reindex(combinaciones, fill_value = 0).reset_index(name = 'total')\n",
    "# Hacer tabla pivote para totales\n",
    "genero_seguridad = genero_seguridad.pivot(index = 'sexo', columns = 'seguridad_social', values = 'total').fillna(0)\n",
    "orden = ['Mujer cis', 'Hombre cis', 'Mujer trans', 'Hombre trans']\n",
    "genero_seguridad = genero_seguridad.reindex(orden)\n",
    "orden2 = [\"Sí\", \"No sabe\", \"Sin dato\"]\n",
    "genero_seguridad = genero_seguridad[orden2]\n",
    "# Hacer tabla pivote para porcentajes \n",
    "genero_seguridad_porcentaje = genero_seguridad.div(genero_seguridad.sum(axis = 1), axis = 0) * 100"
   ]
  },
  {
   "cell_type": "code",
   "execution_count": null,
   "metadata": {},
   "outputs": [],
   "source": [
    "genero_seguridad"
   ]
  },
  {
   "cell_type": "code",
   "execution_count": null,
   "metadata": {},
   "outputs": [],
   "source": [
    "genero_seguridad_porcentaje"
   ]
  },
  {
   "cell_type": "code",
   "execution_count": null,
   "metadata": {},
   "outputs": [],
   "source": [
    "# Calcular totales por género y tipo de resistencia\n",
    "genero_resistencia = datos.groupby(['resistencia_bool','sexo']).size().reset_index(name='total')\n",
    "# Hacer tabla pivote \n",
    "genero_resistencia = genero_resistencia.pivot(index = 'sexo', columns = 'resistencia_bool', values = 'total').fillna(0)\n",
    "genero_resistencia = genero_resistencia.drop(['Pendiente'], axis = 1)\n",
    "# Cambiar orden de index y columnas \n",
    "orden = ['Mujer cis', 'Hombre cis', 'Mujer trans', 'Hombre trans']\n",
    "genero_resistencia = genero_resistencia.reindex(orden)\n",
    "# Hacer tabla pivote para porcentajes \n",
    "genero_resistencia_porcentaje = genero_resistencia.div(genero_resistencia.sum(axis = 1), axis = 0) * 100\n",
    "genero_resistencia_porcentaje = genero_resistencia_porcentaje.reindex(orden)"
   ]
  },
  {
   "cell_type": "code",
   "execution_count": null,
   "metadata": {},
   "outputs": [],
   "source": [
    "genero_resistencia"
   ]
  },
  {
   "cell_type": "code",
   "execution_count": null,
   "metadata": {},
   "outputs": [],
   "source": [
    "genero_resistencia_porcentaje"
   ]
  },
  {
   "attachments": {},
   "cell_type": "markdown",
   "metadata": {},
   "source": [
    "#### __Seguridad social con respecto al género (total__)\n",
    "<img src = \"../datos/imagenes/seguridad_social_genero_total.png\" width= \"500\"/>"
   ]
  },
  {
   "cell_type": "code",
   "execution_count": null,
   "metadata": {},
   "outputs": [],
   "source": [
    "# Crear gráfico \n",
    "colores = {'Sí':'#646464', 'No sabe':'#5B297C', 'Sin dato':'#A834F6'}\n",
    "colores_barras = [colores[col] for col in genero_seguridad.columns]\n",
    "ax = genero_seguridad.plot(kind = 'bar', stacked = True, figsize=(7, 5), width = 0.9, color = colores_barras) \n",
    "\n",
    "#  Editar leyendas de ejes \n",
    "plt.xlabel(\"Género\", fontsize = 10, labelpad = 15, weight = \"bold\")\n",
    "plt.ylabel(\"Cantidad de participantes\", fontsize = 10, labelpad = 15, weight = \"bold\")\n",
    "plt.xticks(rotation = 360)\n",
    "\n",
    "# Editar cuadricula \n",
    "plt.grid(visible = True, axis = 'y', color = \"#7D7D7D\", linestyle = \"--\", linewidth = 0.7)\n",
    "plt.grid(visible = False, axis = 'x')\n",
    "\n",
    "# Eliminar marcos externos\n",
    "ax.spines['top'].set_visible(False)\n",
    "ax.spines['right'].set_visible(False)\n",
    "ax.spines['left'].set_visible(False)\n",
    "ax.spines['bottom'].set_visible(True)\n",
    "ax.spines['bottom'].set_color(\"#7D7D7D\")\n",
    "ax.spines['bottom'].set_linestyle(\"--\")\n",
    "\n",
    "# Editar marcadores, nombre y posición de leyenda \n",
    "elementos_leyenda = [Line2D([0],[0], marker = 'o', color = color, linestyle = 'None', markersize = 10, label = categoria)\n",
    "                    for categoria, color in colores.items()]\n",
    "\n",
    "plt.legend(handles = elementos_leyenda, title = \"Cuenta con seguridad social\", frameon = False, loc = \"lower center\", ncol = 3, borderaxespad = -9)\n",
    "plt.show()"
   ]
  },
  {
   "attachments": {},
   "cell_type": "markdown",
   "metadata": {},
   "source": [
    "#### __Seguridad social con respecto al género (porcentual)__\n",
    "<img src = \"../datos/imagenes/seguridad_social_genero_porcentual.png\" width= \"500\"/>"
   ]
  },
  {
   "cell_type": "code",
   "execution_count": null,
   "metadata": {},
   "outputs": [],
   "source": [
    "# Crear gráfico \n",
    "colores = {'Sí':'#646464', 'No sabe':'#5B297C', 'Sin dato':'#A834F6'}\n",
    "colores_barras = [colores[col] for col in genero_seguridad.columns]\n",
    "ax = genero_seguridad_porcentaje.plot(kind = 'bar', stacked = True, figsize=(7, 5), width = 0.9, color = colores_barras) \n",
    "\n",
    "#  Editar leyendas de ejes \n",
    "plt.xlabel(\"Género\", fontsize = 10, labelpad = 15, weight = \"bold\")\n",
    "plt.ylabel(\"Cantidad de participantes\", fontsize = 10, labelpad = 15, weight = \"bold\")\n",
    "plt.xticks(rotation = 360)\n",
    "plt.yticks(ticks = [0, 20, 40, 60, 80, 100], labels = [\"0%\", \"20%\", \"40%\", \"60%\", \"80%\", \"100%\"])\n",
    "\n",
    "# Editar cuadricula \n",
    "plt.grid(visible = True, axis = 'y', color = \"#7D7D7D\", linestyle = \"--\", linewidth = 0.7)\n",
    "plt.grid(visible = False, axis = 'x')\n",
    "\n",
    "# Eliminar marcos externos\n",
    "ax.spines['top'].set_visible(False)\n",
    "ax.spines['right'].set_visible(False)\n",
    "ax.spines['left'].set_visible(False)\n",
    "ax.spines['bottom'].set_visible(True)\n",
    "ax.spines['bottom'].set_color(\"#7D7D7D\")\n",
    "ax.spines['bottom'].set_linestyle(\"--\")\n",
    "\n",
    "# Editar marcadores, nombre y posición de leyenda \n",
    "elementos_leyenda = [Line2D([0],[0], marker = 'o', color = color, linestyle = 'None', markersize = 10, label = categoria)\n",
    "                    for categoria, color in colores.items()]\n",
    "\n",
    "plt.legend(handles = elementos_leyenda, title = \"Cuenta con seguridad social\", frameon = False, loc = \"lower center\", ncol = 3, borderaxespad = -9)\n",
    "plt.show()"
   ]
  },
  {
   "attachments": {},
   "cell_type": "markdown",
   "metadata": {},
   "source": [
    "#### __Resistencia a antirretrovirales con respecto al género (total)__\n",
    "<img src = \"../datos/imagenes/resistencia_genero_total.png\" width= \"500\"/>"
   ]
  },
  {
   "cell_type": "code",
   "execution_count": null,
   "metadata": {},
   "outputs": [],
   "source": [
    "# Crear gráfico \n",
    "colores = {'Con resistencia': '#5B297C', 'Sin resistencia': '#A834F6'}\n",
    "colores_barras = [colores[col] for col in genero_resistencia.columns]\n",
    "ax = genero_resistencia.plot(kind = 'bar', stacked = True, figsize=(7, 5), width = 0.9, color = colores_barras) \n",
    "\n",
    "#  Editar leyendas de ejes \n",
    "plt.xlabel(\"Género\", fontsize = 10, labelpad = 15, weight = \"bold\")\n",
    "plt.ylabel(\"Cantidad de participantes\", fontsize = 10, labelpad = 15, weight = \"bold\")\n",
    "plt.xticks(rotation = 360)\n",
    "\n",
    "\n",
    "# Editar cuadricula \n",
    "plt.grid(visible = True, axis = 'y', color = \"#7D7D7D\", linestyle = \"--\", linewidth = 0.7)\n",
    "plt.grid(visible = False, axis = 'x')\n",
    "\n",
    "# Eliminar marcos externos\n",
    "ax.spines['top'].set_visible(False)\n",
    "ax.spines['right'].set_visible(False)\n",
    "ax.spines['left'].set_visible(False)\n",
    "ax.spines['bottom'].set_visible(True)\n",
    "ax.spines['bottom'].set_color(\"#7D7D7D\")\n",
    "ax.spines['bottom'].set_linestyle(\"--\")\n",
    "\n",
    "# Editar marcadores, nombre y posición de leyenda \n",
    "elementos_leyenda = [Line2D([0],[0], marker = 'o', color = color, linestyle = 'None', markersize = 10, label = categoria)\n",
    "                    for categoria, color in colores.items()]\n",
    "\n",
    "# Editar eje y \n",
    "ax.set_ylim(0, 12000)\n",
    "cifras_especificas = [0, 2000, 4000, 6000, 8000, 10000]\n",
    "plt.gca().set_yticks(cifras_especificas)\n",
    "\n",
    "plt.legend(handles = elementos_leyenda, title = \"Resistencia a antirretrovirales\", frameon = False, loc = \"lower center\", ncol = 2, borderaxespad = -9)\n",
    "plt.show()"
   ]
  },
  {
   "attachments": {},
   "cell_type": "markdown",
   "metadata": {},
   "source": [
    "#### __Resistencia a antirretrovirales con respecto al género (porcentual)__\n",
    "<img src = \"../datos/imagenes/resistencia_genero_porcentual.png\" width= \"500\"/>"
   ]
  },
  {
   "cell_type": "code",
   "execution_count": null,
   "metadata": {},
   "outputs": [],
   "source": [
    "# Crear gráfico \n",
    "colores = {'Con resistencia': '#5B297C', 'Sin resistencia': '#A834F6'}\n",
    "colores_barras = [colores[col] for col in genero_resistencia.columns]\n",
    "ax = genero_resistencia_porcentaje.plot(kind = 'bar', stacked = True, figsize=(7, 5), width = 0.9, color = colores_barras) \n",
    "\n",
    "#  Editar leyendas de ejes \n",
    "plt.xlabel(\"Género\", fontsize = 10, labelpad = 15, weight = \"bold\")\n",
    "plt.ylabel(\"Cantidad de participantes\", fontsize = 10, labelpad = 15, weight = \"bold\")\n",
    "plt.xticks(rotation = 0)\n",
    "ax.set_ylim(0, 100)\n",
    "plt.yticks(ticks = [0, 20, 40, 60, 80, 100], labels = [\"0%\", \"20%\", \"40%\", \"60%\", \"80%\", \"100%\"])\n",
    "\n",
    "# Editar cuadricula \n",
    "plt.grid(visible = True, axis = 'y', color = \"#7D7D7D\", linestyle = \"--\", linewidth = 0.7)\n",
    "plt.grid(visible = False, axis = 'x')\n",
    "\n",
    "# Eliminar marcos externos\n",
    "ax.spines['top'].set_visible(False)\n",
    "ax.spines['right'].set_visible(False)\n",
    "ax.spines['left'].set_visible(False)\n",
    "ax.spines['bottom'].set_visible(True)\n",
    "ax.spines['bottom'].set_color(\"#7D7D7D\")\n",
    "ax.spines['bottom'].set_linestyle(\"--\")\n",
    "\n",
    "# Editar marcadores, nombre y posición de leyenda \n",
    "elementos_leyenda = [Line2D([0],[0], marker = 'o', color = color, linestyle = 'None', markersize = 10, label = categoria)\n",
    "                    for categoria, color in colores.items()]\n",
    "\n",
    "\n",
    "plt.legend(handles = elementos_leyenda, title = \"Resistencia a antirretrovirales\", frameon = False, loc = \"lower center\", ncol = 2, borderaxespad = -9)\n",
    "plt.show()"
   ]
  }
 ],
 "metadata": {
  "kernelspec": {
   "display_name": "VIH",
   "language": "python",
   "name": "python3"
  },
  "language_info": {
   "codemirror_mode": {
    "name": "ipython",
    "version": 3
   },
   "file_extension": ".py",
   "mimetype": "text/x-python",
   "name": "python",
   "nbconvert_exporter": "python",
   "pygments_lexer": "ipython3",
   "version": "3.10.0"
  },
  "orig_nbformat": 4
 },
 "nbformat": 4,
 "nbformat_minor": 2
}
