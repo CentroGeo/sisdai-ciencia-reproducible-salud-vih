{
 "cells": [
  {
   "cell_type": "code",
   "execution_count": null,
   "metadata": {},
   "outputs": [],
   "source": [
    "import requests\n",
    "import os \n",
    "import zipfile\n",
    "import pandas as pd\n",
    "import numpy as np\n",
    "import warnings\n",
    "from pandas.core.common import SettingWithCopyWarning # 1.4.4\n",
    "warnings.simplefilter(action=\"ignore\", category=SettingWithCopyWarning)\n",
    "warnings.simplefilter(\"ignore\", UserWarning)\n",
    "from datetime import date"
   ]
  },
  {
   "cell_type": "code",
   "execution_count": null,
   "metadata": {},
   "outputs": [],
   "source": [
    "# Definir ulr y directorio de descarga \n",
    "ulr = \"https://cdn.conahcyt.mx/enis/salud/vih/vih_red_completa-clusters_vih-notas_metodologica-tabla_relacion.zip\"\n",
    "\n",
    "directorio = \"../datos/datos_originales\"\n",
    "nombre_archivo = \"vih_descarga.zip\"\n",
    "directorio_guardar = os.path.join(directorio, nombre_archivo)\n",
    "\n",
    "# Descargar archivo \n",
    "try:\n",
    "    print(\"Descargando el archivo .zip desde la pagina web...\")\n",
    "    respuesta = requests.get(ulr)\n",
    "    respuesta.raise_for_status()\n",
    "    with open(directorio_guardar, \"wb\" ) as file:\n",
    "        file.write(respuesta.content)\n",
    "    print(f\"El archivo zip fue descargado exitosamente a {directorio_guardar}\")\n",
    "except requests.exceptions.RequestException as e:\n",
    "    print(f\"Ocurrio un error durante la descarga del archivo zip: {e}\")\n",
    "    exit()\n",
    "\n",
    "# Extraer archivos del zip \n",
    "try:\n",
    "    print(\"Extrayendo el contenido del archivo zip...\")\n",
    "    with zipfile.ZipFile(directorio_guardar, \"r\") as zip_ref:\n",
    "        zip_ref.extractall(directorio)\n",
    "    print(f\"El contenido del archivo zip fue extraido exitosamente a {directorio}\") \n",
    "except zipfile.BadZipFile as e:\n",
    "    print(f\"Ocurrio un error durante la extracción del archivo zip: {e}\")\n",
    "    exit()"
   ]
  },
  {
   "cell_type": "code",
   "execution_count": null,
   "metadata": {},
   "outputs": [],
   "source": [
    "# Lectura de bases de datos\n",
    "nombre_archivo_1 = \"vih_descarga/02_analisis_datos/vih_red_completa.csv\"\n",
    "nombre_archivo_2 = \"vih_descarga/02_analisis_datos/vih_clusters.csv\"\n",
    "red = pd.read_csv(os.path.join('..', 'datos', 'datos_originales', nombre_archivo_1), dtype = {'id_Muestra':str}).replace({'Missing':np.nan})\n",
    "clusters = pd.read_csv(os.path.join('..', 'datos', 'datos_originales', nombre_archivo_2), dtype = {'id1':str, 'id2':str})"
   ]
  },
  {
   "cell_type": "code",
   "execution_count": null,
   "metadata": {},
   "outputs": [],
   "source": [
    "# Homologacion de fechas\n",
    "red[\"fecha_toma\"] = pd.to_datetime(red[\"fecha_toma\"])\n",
    "\n",
    "# Creación variables categoricas extra\n",
    "red['resistencia_bool'] = red['resistencia'].replace({'Susceptible':'Sin resistencia', 'NNRTI':'Con resistencia', \n",
    "                                                        'PI':'Con resistencia','Compleja':'Con resistencia', \n",
    "                                                        'NRTI': 'Con resistencia', 'INSTI':'Con resistencia'})\n",
    "red['seguridad_social_bool'] = red['seguridad_social'].replace({'IMSS': 'Con seguridad', 'ISSSTE': 'Con seguridad',\n",
    "                                                                'INSABI': 'Con seguridad','Seguro popular': 'Con seguridad',\n",
    "                                                                'Otro':'Con seguridad','Desconoce':'No sabe'})\n",
    "\n",
    "\n",
    "rangos_distancia_genetica = pd.IntervalIndex.from_tuples([(0, 4), (4, 8), (8, 12),(12,15)],closed = 'left')\n",
    "clusters.insert(0,'distancia_genetica_rango',pd.cut(clusters['distancia']*1000,rangos_distancia_genetica).replace({\n",
    "       rangos_distancia_genetica[0]:\"0 a 0.39\", rangos_distancia_genetica[1]:\"0.4 a 0.79\", rangos_distancia_genetica[2]:\"0.8 a 1.19\",rangos_distancia_genetica[3]:\"1.2 a 1.49\"}))\n",
    "\n",
    "# Agregado de fechas de toma de muestra \n",
    "red_con_clusters = list(set(clusters['id1']).union(set(clusters['id2'])))\n",
    "fechas_toma_muestra = red[red['id_muestra'].isin(red_con_clusters)][['id_muestra','fecha_toma']].set_index('id_muestra')\n",
    "\n",
    "dic_fechas = fechas_toma_muestra.to_dict()['fecha_toma']\n",
    "clusters.insert(0,'fecha_toma_id1',clusters['id1'].replace(dic_fechas))\n",
    "clusters.insert(0,'fecha_toma_id2',clusters['id2'].replace(dic_fechas))\n",
    "\n",
    "clusters['distancia'] = clusters['distancia'].apply(lambda x: x*100)"
   ]
  },
  {
   "cell_type": "code",
   "execution_count": null,
   "metadata": {},
   "outputs": [],
   "source": [
    "# Exportar bases de datos que se utilizaran en cada notebook\n",
    "\n",
    "# ESelección de columnas de interes \n",
    "lcols = ['id1', 'id2', 'fecha_toma_id1', 'fecha_toma_id2', 'distancia', 'grado','distancia_genetica_rango']\n",
    "\n",
    "# Datos para vizualizaciones \n",
    "clusters = clusters[lcols].set_index('id1').to_csv(os.path.join('..', 'datos', 'datos_procesados', 'enlaces'+'.csv'))\n",
    "red.set_index('id_muestra').to_csv(os.path.join('..', 'datos', 'datos_procesados', 'nodos.csv'))\n",
    "\n",
    "# Datos con información geográfica\n",
    "red = red.rename({'cv':'carga_viral','cd4_a':'linfocitos'}, axis = 'columns')\n",
    "red['resistencia'] = red['resistencia'].replace({'Sin resistencia':'Susceptible'})\n",
    "cols_geoserver = ['id_muestra','cp','fecha_toma','estado','municipio','sexo','edad','seguridad_social','resistencia','linfocitos','carga_viral']\n",
    "red[cols_geoserver].set_index('id_muestra').to_csv(os.path.join('..', 'datos', 'datos_procesados', 'sig_nodos.csv'))"
   ]
  }
 ],
 "metadata": {
  "kernelspec": {
   "display_name": "vih",
   "language": "python",
   "name": "python3"
  },
  "language_info": {
   "codemirror_mode": {
    "name": "ipython",
    "version": 3
   },
   "file_extension": ".py",
   "mimetype": "text/x-python",
   "name": "python",
   "nbconvert_exporter": "python",
   "pygments_lexer": "ipython3",
   "version": "3.10.0"
  },
  "orig_nbformat": 4
 },
 "nbformat": 4,
 "nbformat_minor": 2
}
